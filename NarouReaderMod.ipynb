{
  "nbformat": 4,
  "nbformat_minor": 0,
  "metadata": {
    "colab": {
      "provenance": []
    },
    "kernelspec": {
      "name": "python3",
      "display_name": "Python 3"
    },
    "language_info": {
      "name": "python"
    }
  },
  "cells": [
    {
      "cell_type": "markdown",
      "source": [
        "# 環境初期化\n",
        "はじめに実行してください。\n",
        "\n",
        "コマンドのインストール、リポジトリのcloneを行います。"
      ],
      "metadata": {
        "id": "MGiJv0QOqqOI"
      }
    },
    {
      "cell_type": "code",
      "source": [
        "!apt-get update && apt-get install -y apksigner zipalign\n",
        "\n",
        "!mkdir /opt/apktool\n",
        "!wget -q -O /opt/apktool/apktool https://raw.githubusercontent.com/iBotPeaches/Apktool/master/scripts/linux/apktool\n",
        "!wget -q -O /opt/apktool/apktool.jar https://bitbucket.org/iBotPeaches/apktool/downloads/apktool_2.9.3.jar\n",
        "!chmod u+x /opt/apktool/apktool\n",
        "\n",
        "!rm -rf /content/repo\n",
        "!git clone https://github.com/kairi003/NarouReaderMod.git /content/repo\n",
        "\n",
        "import os\n",
        "%env PATH=/opt/apktool:{os.environ['PATH']}\n",
        "%cd /content/repo"
      ],
      "metadata": {
        "id": "y2X2nC-snTWw"
      },
      "execution_count": null,
      "outputs": []
    },
    {
      "cell_type": "markdown",
      "source": [
        "# 署名用キーストア作成\n",
        "\n",
        "apk署名用のキーストア `.keystore` を作成し、ダウンロードします。\n",
        "既に作成済みの場合は必要ありません。\n",
        "\n",
        "**異なるキーストアで署名されたアプリ間ではアップデートインストールができないためご注意ください。**\n",
        "\n",
        "実行するとキーストアに設定するパスワードの入力が求められます。\n",
        "パスワードは6文字以上必要です。"
      ],
      "metadata": {
        "id": "Nv9PhG8Eq3Wx"
      }
    },
    {
      "cell_type": "code",
      "source": [
        "from getpass import getpass\n",
        "from google.colab import files\n",
        "\n",
        "key_pass = getpass('keystore password: ')\n",
        "\n",
        "!rm /tmp/.keystore\n",
        "!keytool -genkeypair -v -keystore \"/tmp/.keystore\" -alias \"narou-mod\" \\\n",
        "  -keyalg RSA -keysize 2048 -validity 100000 \\\n",
        "  -dname \"CN=Unknown,OU=Unknown,O=Unknown,L=Unknown,S=Unknown,C=Unknown\" \\\n",
        "  -storepass {key_pass}\n",
        "\n",
        "files.download('/tmp/.keystore')"
      ],
      "metadata": {
        "id": "x8RV72IWo5Aq"
      },
      "execution_count": null,
      "outputs": []
    },
    {
      "cell_type": "markdown",
      "source": [
        "# パッチ適用\n",
        "\n",
        "1. 署名用キーストア(`.keystore`)をアップロード\n",
        "1. キーストアのパスワードを入力\n",
        "  - パスワードが間違っている場合ココでエラーになります\n",
        "1. なろうリーダ v1.35.6 の apkファイル をアップロード\n",
        "1. パッチ適用後、 `narou-mod.apk` がダウンロードされます"
      ],
      "metadata": {
        "id": "NrygIsTprcMg"
      }
    },
    {
      "cell_type": "code",
      "execution_count": null,
      "metadata": {
        "id": "plzPJu2Dlia2"
      },
      "outputs": [],
      "source": [
        "%cd /content/repo\n",
        "\n",
        "import subprocess\n",
        "from getpass import getpass\n",
        "from google.colab import files\n",
        "\n",
        "print('署名用キーストアをアップロード')\n",
        "files.upload_file('/content/repo/.keystore')\n",
        "key_pass = getpass('keystore password: ')\n",
        "proc = subprocess.run(['keytool', '-list', '-keystore', '.keystore'], input=key_pass.encode())\n",
        "assert proc.returncode == 0, 'Incorrect Password'\n",
        "\n",
        "print('なろうリーダ v1.35.6 の apkファイル をアップロード')\n",
        "files.upload_file('/content/repo/original.apk')\n",
        "\n",
        "%env KEY_PASS=pass:{key_pass}\n",
        "!bash ./run.sh\n",
        "\n",
        "files.download('/content/repo/narou-mod.apk')"
      ]
    }
  ]
}